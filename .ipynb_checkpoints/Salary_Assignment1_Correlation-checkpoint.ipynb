{
 "cells": [
  {
   "cell_type": "markdown",
   "metadata": {},
   "source": [
    "# Salary Notebook Assignment 1"
   ]
  },
  {
   "cell_type": "markdown",
   "metadata": {},
   "source": [
    "### In the next series of challenges, we will predict employee salaries from different employee characteristics (or features). We ask employees working in four different fields to state their salary and some background information. \n",
    "\n",
    "### Import the data salary.csv to a Jupyter Notebook and answer the following questions:\n"
   ]
  },
  {
   "cell_type": "code",
   "execution_count": 2,
   "metadata": {},
   "outputs": [],
   "source": [
    "import pandas\n",
    "import numpy as np"
   ]
  },
  {
   "cell_type": "code",
   "execution_count": 3,
   "metadata": {},
   "outputs": [],
   "source": [
    "salary = pandas.read_csv(\"salary.csv\")"
   ]
  },
  {
   "cell_type": "markdown",
   "metadata": {},
   "source": [
    "### Q1 a)\tHow many responders are there? Are there any missing values in any of the variables?"
   ]
  },
  {
   "cell_type": "code",
   "execution_count": 123,
   "metadata": {},
   "outputs": [
    {
     "name": "stdout",
     "output_type": "stream",
     "text": [
      "There are 514 respondents recorded in the data file.\n",
      "Are there any null values: True\n",
      "How many null values:1\n"
     ]
    }
   ],
   "source": [
    "\n",
    "print(\"There are \" + str(len(salary)) + \" respondents recorded in the data file.\")\n",
    "print(\"Are there any null values: \" + str(salary.isnull().values.any()))\n",
    "print(\"Number of null values: \" + str(salary.isnull().sum().sum()))"
   ]
  },
  {
   "cell_type": "markdown",
   "metadata": {},
   "source": [
    "### >>> There are 514 respondents in the data file. There is one null value in the records."
   ]
  },
  {
   "cell_type": "markdown",
   "metadata": {},
   "source": [
    "### Q1b)\tWhat is the lowest salary and highest salary in the group?"
   ]
  },
  {
   "cell_type": "code",
   "execution_count": 95,
   "metadata": {},
   "outputs": [
    {
     "data": {
      "text/plain": [
       "salary         29000.00\n",
       "exprior            0.00\n",
       "yearsworked        0.00\n",
       "yearsrank          0.00\n",
       "market             0.71\n",
       "degree             0.00\n",
       "otherqual          0.00\n",
       "position           1.00\n",
       "male               0.00\n",
       "Field              1.00\n",
       "yearsabs           0.00\n",
       "dtype: float64"
      ]
     },
     "execution_count": 95,
     "metadata": {},
     "output_type": "execute_result"
    }
   ],
   "source": [
    "salary.min()"
   ]
  },
  {
   "cell_type": "code",
   "execution_count": 96,
   "metadata": {},
   "outputs": [
    {
     "data": {
      "text/plain": [
       "salary         96156.00\n",
       "exprior           25.00\n",
       "yearsworked       41.00\n",
       "yearsrank         28.00\n",
       "market             1.33\n",
       "degree             1.00\n",
       "otherqual          1.00\n",
       "position           3.00\n",
       "male               1.00\n",
       "Field              4.00\n",
       "yearsabs         118.00\n",
       "dtype: float64"
      ]
     },
     "execution_count": 96,
     "metadata": {},
     "output_type": "execute_result"
    }
   ],
   "source": [
    "salary.max()"
   ]
  },
  {
   "cell_type": "markdown",
   "metadata": {},
   "source": [
    "### >>> The lowest salary is 29 000. The highest salary is 96 156."
   ]
  },
  {
   "cell_type": "markdown",
   "metadata": {},
   "source": [
    "### Q1c)\tWhat is the mean salary for the sample? Include the standard error of the mean."
   ]
  },
  {
   "cell_type": "code",
   "execution_count": 97,
   "metadata": {},
   "outputs": [
    {
     "data": {
      "text/plain": [
       "50863.22009783625"
      ]
     },
     "execution_count": 97,
     "metadata": {},
     "output_type": "execute_result"
    }
   ],
   "source": [
    "salary['salary'].mean()"
   ]
  },
  {
   "cell_type": "code",
   "execution_count": 98,
   "metadata": {},
   "outputs": [
    {
     "data": {
      "text/plain": [
       "560.0622753925232"
      ]
     },
     "execution_count": 98,
     "metadata": {},
     "output_type": "execute_result"
    }
   ],
   "source": [
    "salary['salary'].sem()"
   ]
  },
  {
   "cell_type": "markdown",
   "metadata": {},
   "source": [
    "### >>> The mean salary is 50 863.22. The standard error of the mean is 560.06."
   ]
  },
  {
   "cell_type": "markdown",
   "metadata": {},
   "source": [
    "### Q1d)\tWhat is the standard deviation for the years worked?"
   ]
  },
  {
   "cell_type": "code",
   "execution_count": 99,
   "metadata": {},
   "outputs": [
    {
     "data": {
      "text/plain": [
       "9.444695144169803"
      ]
     },
     "execution_count": 99,
     "metadata": {},
     "output_type": "execute_result"
    }
   ],
   "source": [
    "salary['yearsworked'].std()"
   ]
  },
  {
   "cell_type": "markdown",
   "metadata": {},
   "source": [
    "### >>> The standard deviation for the years worked is 9.44."
   ]
  },
  {
   "cell_type": "markdown",
   "metadata": {},
   "source": [
    "### Q1e)\tWhat is the median salary for the sample?"
   ]
  },
  {
   "cell_type": "code",
   "execution_count": 100,
   "metadata": {},
   "outputs": [
    {
     "data": {
      "text/plain": [
       "50096.0"
      ]
     },
     "execution_count": 100,
     "metadata": {},
     "output_type": "execute_result"
    }
   ],
   "source": [
    "salary['salary'].median()"
   ]
  },
  {
   "cell_type": "markdown",
   "metadata": {},
   "source": [
    "### >>> The median for the salary is 50 096."
   ]
  },
  {
   "cell_type": "markdown",
   "metadata": {},
   "source": [
    "### Q1f)\tWhat is the interquartile range for salary in the sample?"
   ]
  },
  {
   "cell_type": "code",
   "execution_count": 101,
   "metadata": {},
   "outputs": [
    {
     "name": "stdout",
     "output_type": "stream",
     "text": [
      "Low interquatile range: 40000.0\n",
      "High interquatile range: 60345.0\n"
     ]
    }
   ],
   "source": [
    "print(\"Low interquatile range: \" + str(salary['salary'].quantile(.25)))\n",
    "print(\"High interquatile range: \" + str(salary['salary'].quantile(.75)))"
   ]
  },
  {
   "cell_type": "markdown",
   "metadata": {},
   "source": [
    "### >>> The interquartile range is between 40 000  and 60 345"
   ]
  },
  {
   "cell_type": "markdown",
   "metadata": {},
   "source": [
    "### Q1g)\tHow many men are there in the sample? How many women are there in the sample? Present this information in a table. "
   ]
  },
  {
   "cell_type": "code",
   "execution_count": 18,
   "metadata": {},
   "outputs": [
    {
     "name": "stdout",
     "output_type": "stream",
     "text": [
      "Men   Women\n",
      "386   128\n"
     ]
    }
   ],
   "source": [
    "print('{:5} {}'.format('Men', 'Women'))\n",
    "print('{:5} {}'.format(str(len(salary[salary['male'] == 1])), str(len(salary[salary['male'] == 0]))))"
   ]
  },
  {
   "cell_type": "markdown",
   "metadata": {},
   "source": [
    "### >>> There are 386 men, and 128 women in the sample."
   ]
  },
  {
   "cell_type": "markdown",
   "metadata": {},
   "source": [
    "### Q1h)\tHow many women are full professors compared to men? "
   ]
  },
  {
   "cell_type": "code",
   "execution_count": 110,
   "metadata": {},
   "outputs": [
    {
     "name": "stdout",
     "output_type": "stream",
     "text": [
      "Male Professors = 192\n",
      "Female Professors = 19\n"
     ]
    }
   ],
   "source": [
    "male_profs = males[males['position'] == 3]\n",
    "fem_profs = females[females['position']  == 3]\n",
    "print(\"Male Professors = \" + str(len(male_profs)))\n",
    "print(\"Female Professors = \" + str(len(fem_profs)))"
   ]
  },
  {
   "cell_type": "markdown",
   "metadata": {},
   "source": [
    "### >>> Assuming a person is a full professor if they are marked '3' under the \"position\" column...\n",
    "### ... there are 192 male and 19 female professors."
   ]
  },
  {
   "cell_type": "code",
   "execution_count": 138,
   "metadata": {},
   "outputs": [
    {
     "name": "stdout",
     "output_type": "stream",
     "text": [
      "Male Professors = 101\n",
      "Female Professors = 35\n"
     ]
    }
   ],
   "source": [
    "males = salary[salary['male'] == 1]\n",
    "females = salary[salary['male'] == 0]\n",
    "\n",
    "male_profs = males[males['Field'] == 4]\n",
    "fem_profs = females[females['Field']  == 4]\n",
    "\n",
    "print(\"Male Professors = \" + str(len(male_profs)))\n",
    "print(\"Female Professors = \" + str(len(fem_profs)))"
   ]
  },
  {
   "cell_type": "markdown",
   "metadata": {},
   "source": [
    "### >>> Assuming a person is a full professor if they are marked '4' under the \"Field\" column...\n",
    "### ... there are 101 male and 35 female professors."
   ]
  },
  {
   "cell_type": "code",
   "execution_count": 160,
   "metadata": {},
   "outputs": [
    {
     "data": {
      "text/plain": [
       "array([[<matplotlib.axes._subplots.AxesSubplot object at 0x000000D3DEF6D7B8>]],\n",
       "      dtype=object)"
      ]
     },
     "execution_count": 160,
     "metadata": {},
     "output_type": "execute_result"
    },
    {
     "data": {
      "image/png": "[encoded data removed]",
      "text/plain": [
       "<matplotlib.figure.Figure at 0xd3deedd550>"
      ]
     },
     "metadata": {},
     "output_type": "display_data"
    }
   ],
   "source": [
    "salary.hist(column='salary')"
   ]
  }
 ],
 "metadata": {
  "kernelspec": {
   "display_name": "Python 3",
   "language": "python",
   "name": "python3"
  },
  "language_info": {
   "codemirror_mode": {
    "name": "ipython",
    "version": 3
   },
   "file_extension": ".py",
   "mimetype": "text/x-python",
   "name": "python",
   "nbconvert_exporter": "python",
   "pygments_lexer": "ipython3",
   "version": "3.6.4"
  }
 },
 "nbformat": 4,
 "nbformat_minor": 2
}
