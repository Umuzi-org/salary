{
 "cells": [
  {
   "cell_type": "code",
   "execution_count": 30,
   "metadata": {},
   "outputs": [
    {
     "name": "stdout",
     "output_type": "stream",
     "text": [
      "Exception reporting mode: Plain\n"
     ]
    }
   ],
   "source": [
    "# Import necessary packages\n",
    "import pandas as pd\n",
    "import numpy as np\n",
    "import matplotlib.pyplot as plt\n",
    "import scipy.stats as stats\n",
    "\n",
    "#set up a large font for our pyplot\n",
    "font = {'family' : 'Arial',\n",
    "        'weight' : 'bold',\n",
    "        'size'   : 22}\n",
    "\n",
    "plt.rc('font', **font)\n",
    "\n",
    "# Python's default exception mode is too verbose, let's set it to 'plain'\n",
    "%xmode plain"
   ]
  },
  {
   "cell_type": "markdown",
   "metadata": {},
   "source": [
    "### Removing null values from dataframe and sorting"
   ]
  },
  {
   "cell_type": "code",
   "execution_count": 31,
   "metadata": {},
   "outputs": [
    {
     "data": {
      "text/html": [
       "<div>\n",
       "<style scoped>\n",
       "    .dataframe tbody tr th:only-of-type {\n",
       "        vertical-align: middle;\n",
       "    }\n",
       "\n",
       "    .dataframe tbody tr th {\n",
       "        vertical-align: top;\n",
       "    }\n",
       "\n",
       "    .dataframe thead th {\n",
       "        text-align: right;\n",
       "    }\n",
       "</style>\n",
       "<table border=\"1\" class=\"dataframe\">\n",
       "  <thead>\n",
       "    <tr style=\"text-align: right;\">\n",
       "      <th></th>\n",
       "      <th>salary</th>\n",
       "      <th>exprior</th>\n",
       "      <th>yearsworked</th>\n",
       "      <th>yearsrank</th>\n",
       "      <th>market</th>\n",
       "      <th>degree</th>\n",
       "      <th>otherqual</th>\n",
       "      <th>position</th>\n",
       "      <th>male</th>\n",
       "      <th>Field</th>\n",
       "      <th>yearsabs</th>\n",
       "    </tr>\n",
       "  </thead>\n",
       "  <tbody>\n",
       "    <tr>\n",
       "      <th>326</th>\n",
       "      <td>53686.0</td>\n",
       "      <td>0</td>\n",
       "      <td>31</td>\n",
       "      <td>17</td>\n",
       "      <td>0.78</td>\n",
       "      <td>1</td>\n",
       "      <td>0</td>\n",
       "      <td>3</td>\n",
       "      <td>1</td>\n",
       "      <td>1</td>\n",
       "      <td>1</td>\n",
       "    </tr>\n",
       "    <tr>\n",
       "      <th>365</th>\n",
       "      <td>82508.0</td>\n",
       "      <td>0</td>\n",
       "      <td>32</td>\n",
       "      <td>23</td>\n",
       "      <td>0.93</td>\n",
       "      <td>0</td>\n",
       "      <td>1</td>\n",
       "      <td>3</td>\n",
       "      <td>1</td>\n",
       "      <td>2</td>\n",
       "      <td>0</td>\n",
       "    </tr>\n",
       "    <tr>\n",
       "      <th>376</th>\n",
       "      <td>72152.0</td>\n",
       "      <td>0</td>\n",
       "      <td>33</td>\n",
       "      <td>22</td>\n",
       "      <td>1.00</td>\n",
       "      <td>1</td>\n",
       "      <td>0</td>\n",
       "      <td>3</td>\n",
       "      <td>1</td>\n",
       "      <td>2</td>\n",
       "      <td>2</td>\n",
       "    </tr>\n",
       "    <tr>\n",
       "      <th>364</th>\n",
       "      <td>66334.0</td>\n",
       "      <td>0</td>\n",
       "      <td>35</td>\n",
       "      <td>23</td>\n",
       "      <td>0.78</td>\n",
       "      <td>1</td>\n",
       "      <td>0</td>\n",
       "      <td>3</td>\n",
       "      <td>1</td>\n",
       "      <td>1</td>\n",
       "      <td>0</td>\n",
       "    </tr>\n",
       "    <tr>\n",
       "      <th>382</th>\n",
       "      <td>64109.0</td>\n",
       "      <td>0</td>\n",
       "      <td>41</td>\n",
       "      <td>28</td>\n",
       "      <td>0.91</td>\n",
       "      <td>1</td>\n",
       "      <td>0</td>\n",
       "      <td>3</td>\n",
       "      <td>1</td>\n",
       "      <td>2</td>\n",
       "      <td>0</td>\n",
       "    </tr>\n",
       "  </tbody>\n",
       "</table>\n",
       "</div>"
      ],
      "text/plain": [
       "      salary  exprior  yearsworked  yearsrank  market  degree  otherqual  \\\n",
       "326  53686.0        0           31         17    0.78       1          0   \n",
       "365  82508.0        0           32         23    0.93       0          1   \n",
       "376  72152.0        0           33         22    1.00       1          0   \n",
       "364  66334.0        0           35         23    0.78       1          0   \n",
       "382  64109.0        0           41         28    0.91       1          0   \n",
       "\n",
       "     position  male  Field  yearsabs  \n",
       "326         3     1      1         1  \n",
       "365         3     1      2         0  \n",
       "376         3     1      2         2  \n",
       "364         3     1      1         0  \n",
       "382         3     1      2         0  "
      ]
     },
     "execution_count": 31,
     "metadata": {},
     "output_type": "execute_result"
    }
   ],
   "source": [
    "data = pd.read_csv(\"salary.csv\")\n",
    "data = data.drop(data.index[208])\n",
    "data = data.sort_values('yearsworked')\n",
    "data.tail()"
   ]
  },
  {
   "cell_type": "markdown",
   "metadata": {},
   "source": [
    "### a)\tRun a simple linear regression for Salary with one predictor variable: Years Worked"
   ]
  },
  {
   "cell_type": "code",
   "execution_count": 32,
   "metadata": {},
   "outputs": [
    {
     "name": "stdout",
     "output_type": "stream",
     "text": [
      "slope | intercept | r_value | p_value | x_std | y_std    | std_err\n",
      "837.33| 40115.01  | 0.62    | 0.00    | 9.45  | 12685.13 | 46.44\n"
     ]
    }
   ],
   "source": [
    "x = data['yearsworked'] # Years worked (independent variable) as x-axis\n",
    "y = data['salary'] # Salary (dependent variable) as y-axis\n",
    "\n",
    "# Calculate slope, intercept, r-value, p-value, and standard error using scipy\n",
    "slope, intercept, r_value, p_value, std_err = stats.linregress(x, y)\n",
    "\n",
    "# Calculate standard deviation of x and y\n",
    "x_std = stats.tstd(x)\n",
    "y_std = stats.tstd(y)\n",
    "\n",
    "# Output all values\n",
    "output  = \"slope | intercept | r_value | p_value | x_std | y_std    | std_err\\n\"\n",
    "output += '{:.2f}'.format(slope) + '|' + '{:9.2f}'.format(intercept) + '{:>3}'.format('|') + '{:5.2f}'.format(r_value)\n",
    "output += '{:>5}'.format('|') + '{:5.2f}'.format(p_value) + '{:>5}'.format('|') + '{:5.2f}'.format(x_std)\n",
    "output += '{:>3}'.format('|') + '{:9.2f}'.format(y_std) + '{:>2}'.format('|') + '{:6.2f}'.format(std_err)\n",
    "print(output)"
   ]
  },
  {
   "cell_type": "markdown",
   "metadata": {},
   "source": [
    "### i.\tWhat percentage of the variance in employees’ salaries is accounted for by the number of years they have worked?"
   ]
  },
  {
   "cell_type": "code",
   "execution_count": 33,
   "metadata": {},
   "outputs": [
    {
     "data": {
      "text/plain": [
       "38.88630734995997"
      ]
     },
     "execution_count": 33,
     "metadata": {},
     "output_type": "execute_result"
    }
   ],
   "source": [
    "# Variance is r-squared\n",
    "r_value ** 2 * 100"
   ]
  },
  {
   "cell_type": "markdown",
   "metadata": {},
   "source": [
    "### >>>> 38% of the variance in employees’ salaries is accounted for by the number of years they have worked. We can be certain about our hypothesis of the relation because our p-value is well below our significance threshold of 0.05."
   ]
  },
  {
   "cell_type": "markdown",
   "metadata": {},
   "source": [
    "### ii.\tDoes the model significantly predict the dependent variable? Report the amount of variance explained (R2) and significance value (p) to support your answer."
   ]
  },
  {
   "cell_type": "code",
   "execution_count": 34,
   "metadata": {},
   "outputs": [
    {
     "name": "stdout",
     "output_type": "stream",
     "text": [
      "R-value: 0.6235888657598047\n",
      "P-value: 1.2873351342922937e-56\n"
     ]
    }
   ],
   "source": [
    "print(\"R-value: \" + str(r_value))\n",
    "print(\"P-value: \" + str(p_value))"
   ]
  },
  {
   "cell_type": "markdown",
   "metadata": {},
   "source": [
    "#### >>> Yes, the model significantly predicts the dependent variable because our p-value is well-below our significance threshold of 0.05 . Meaning our coefficient of determination (0.3886307) indicates a relationship is more likely to exist."
   ]
  },
  {
   "cell_type": "markdown",
   "metadata": {},
   "source": [
    "### iii) Report and interpret the standard error of the estimate. (Hint: Compare the standard error of the estimate to the standard deviation for Salary, which you would have calculated in Question 1.a))"
   ]
  },
  {
   "cell_type": "code",
   "execution_count": 35,
   "metadata": {},
   "outputs": [
    {
     "name": "stdout",
     "output_type": "stream",
     "text": [
      "    std : 12685.132357963685\n",
      "std_err : 46.43634621012887\n"
     ]
    }
   ],
   "source": [
    "print('    std :', y_std)\n",
    "print('std_err :', std_err)"
   ]
  },
  {
   "cell_type": "markdown",
   "metadata": {},
   "source": [
    "#### >>> The avarage difference of the predicted amounts to the actual amount in the \"yearsworked\" and 'salary' is 46.44"
   ]
  },
  {
   "cell_type": "markdown",
   "metadata": {},
   "source": [
    "### b) Examine the output from the Coefficients table:\n",
    "### (i) What does the unstandardized coefficient (B) tell you about the relationship between Years Worked and Salary?"
   ]
  },
  {
   "cell_type": "code",
   "execution_count": 43,
   "metadata": {},
   "outputs": [
    {
     "name": "stdout",
     "output_type": "stream",
     "text": [
      "Years Worked: 0 | Predicted Salary = 40115.013787591495 | Difference = 40115.013787591495\n",
      "Years Worked: 1 | Predicted Salary = 40952.34557759234 | Difference = 837.3317900008478\n",
      "Years Worked: 2 | Predicted Salary = 41789.67736759318 | Difference = 837.3317900008406\n",
      "Years Worked: 3 | Predicted Salary = 42627.00915759403 | Difference = 837.3317900008478\n",
      "Years Worked: 4 | Predicted Salary = 43464.34094759487 | Difference = 837.3317900008406\n",
      "Years Worked: 5 | Predicted Salary = 44301.67273759572 | Difference = 837.3317900008478\n"
     ]
    }
   ],
   "source": [
    "sample = pd.DataFrame(data[\"yearsworked\"]).sort_values('yearsworked').reset_index()\n",
    "sample = sample.loc[[6,44, 50, 100, 130, 150]]\n",
    "predicted_salary = 0\n",
    "\n",
    "def predict_salary(yearsworked):\n",
    "    return slope * year + intercept\n",
    "\n",
    "for year in sample.yearsworked:\n",
    "    last_salary = predicted_salary\n",
    "    predicted_salary = slope * year + intercept\n",
    "    difference = predicted_salary - last_salary\n",
    "    print(\"Years Worked: \" + str(year) + \" | Predicted Salary = \" + str(predicted_salary) + \" | Difference = \" + str(difference))"
   ]
  },
  {
   "cell_type": "markdown",
   "metadata": {},
   "source": [
    "### >>> It tells us that for every year worked an employee earns \\$837 more per annum."
   ]
  },
  {
   "cell_type": "markdown",
   "metadata": {},
   "source": [
    "### (ii) Compare the standardised coefficient (Beta) for Years Worked to the Pearson’s (zero-order) correlation coefficient from question 1.c). What do you notice? Explain why this is so."
   ]
  },
  {
   "cell_type": "code",
   "execution_count": 46,
   "metadata": {},
   "outputs": [
    {
     "name": "stdout",
     "output_type": "stream",
     "text": [
      "3.7890402274764092\n",
      "0.6235888657598047\n"
     ]
    }
   ],
   "source": [
    "std_x = np.std(x)\n",
    "std_y = np.std(y)\n",
    "\n",
    "predicted_salary_Std = slope * std_x + intercept\n",
    "predicted_salary_Std = predicted_salary_Std / std_y\n",
    "print(predicted_salary_Std)\n",
    "print(r_value)"
   ]
  },
  {
   "cell_type": "markdown",
   "metadata": {},
   "source": [
    "### >>> We notice that there is a positive relation between X and Y, because our r value (0.62) shows that there is a strongly positive relationship between our variables(x(years worked) and y(Salary)) and our Standardised coefficient (Beta) shows that when there is a 1 std increase in the years worked there is an increase of 3.75 std in the Salary earned."
   ]
  },
  {
   "cell_type": "markdown",
   "metadata": {},
   "source": [
    "### (iii) Calculate the expected salary for someone who graduated 12 years ago."
   ]
  },
  {
   "cell_type": "code",
   "execution_count": 45,
   "metadata": {},
   "outputs": [
    {
     "name": "stdout",
     "output_type": "stream",
     "text": [
      "50162.99526760163\n"
     ]
    }
   ],
   "source": [
    "Predicted_salary_12 = slope * 12 + intercept\n",
    "print(Predicted_salary_12 )"
   ]
  },
  {
   "cell_type": "markdown",
   "metadata": {},
   "source": [
    "### >>> Using the trend line to make a prediction, a person with 12 years experience is expected to earn \\$50 163 per annum."
   ]
  },
  {
   "cell_type": "markdown",
   "metadata": {},
   "source": [
    "### (iv) Calculate the expected salary for someone who graduated 80 years ago. Are there any problems with this prediction? If so, what are they?"
   ]
  },
  {
   "cell_type": "code",
   "execution_count": 44,
   "metadata": {},
   "outputs": [
    {
     "name": "stdout",
     "output_type": "stream",
     "text": [
      "107101.55698765906\n"
     ]
    }
   ],
   "source": [
    "p80 = slope * 80 + intercept\n",
    "print(p80)"
   ]
  },
  {
   "cell_type": "markdown",
   "metadata": {},
   "source": [
    "### >>> Following the same trend line, a person with 80 years working experience should earn at least \\$107 102 per annum. However, this scenario is very unlikely, because a person working for 80 years means this person is likely to be over 100 years old. With that taken into account, the problem with trying to calculate salary based on this scenario, is that this scenario is unrealistic."
   ]
  },
  {
   "cell_type": "markdown",
   "metadata": {},
   "source": [
    "### c) We have only looked at the number of years and employee has worked. What are employee characteristics might influence their salary?"
   ]
  },
  {
   "cell_type": "markdown",
   "metadata": {},
   "source": [
    "### >>> Position, Field of work, gender, marital status, level of education, experience prior to current position, market value and years worked at current position."
   ]
  }
 ],
 "metadata": {
  "kernelspec": {
   "display_name": "Python 3",
   "language": "python",
   "name": "python3"
  },
  "language_info": {
   "codemirror_mode": {
    "name": "ipython",
    "version": 3
   },
   "file_extension": ".py",
   "mimetype": "text/x-python",
   "name": "python",
   "nbconvert_exporter": "python",
   "pygments_lexer": "ipython3",
   "version": "3.6.4"
  }
 },
 "nbformat": 4,
 "nbformat_minor": 2
}
