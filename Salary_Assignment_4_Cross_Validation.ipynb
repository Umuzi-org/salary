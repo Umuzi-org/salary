{
 "cells": [
  {
   "cell_type": "markdown",
   "metadata": {},
   "source": [
    "# Salary Assignment 3: Cross Validation"
   ]
  },
  {
   "cell_type": "markdown",
   "metadata": {},
   "source": [
    "### In this notebook, we will predict employee salaries using cross validation."
   ]
  },
  {
   "cell_type": "code",
   "execution_count": 1,
   "metadata": {},
   "outputs": [
    {
     "name": "stdout",
     "output_type": "stream",
     "text": [
      "Exception reporting mode: Plain\n"
     ]
    }
   ],
   "source": [
    "# Import necessary packages\n",
    "import pandas as pd\n",
    "# import numpy as np\n",
    "import matplotlib.pyplot as plt\n",
    "# import scipy.stats as stats\n",
    "# import seaborn as sns\n",
    "# from IPython.display import display\n",
    "# from sklearn import preprocessing\n",
    "from sklearn import linear_model\n",
    "# from sklearn.metrics import r2_score\n",
    "from sklearn.model_selection import train_test_split\n",
    "\n",
    "%matplotlib inline\n",
    "\n",
    "#set up a large font for our pyplot\n",
    "font = {'family' : 'Arial',\n",
    "        'weight' : 'bold',\n",
    "        'size'   : 12}\n",
    "\n",
    "plt.rc('font', **font)\n",
    "plt.rcParams[\"figure.figsize\"] = [18, 9]\n",
    "\n",
    "# Python's default exception mode is too verbose, let's set it to 'plain'\n",
    "%xmode plain\n",
    "data = pd.DataFrame()\n",
    "\n",
    "def reloadData():\n",
    "    df = pd.read_csv(\"salary.csv\")\n",
    "    df.drop(df.index[208], inplace=True) # This row has a null value for the salary\n",
    "    df = df.sort_values('salary')\n",
    "    df.reset_index(drop=True, inplace=True)\n",
    "    print(\"Loaded dataframe. Dataframe columns: \" + str(df.columns))\n",
    "    return df"
   ]
  },
  {
   "cell_type": "code",
   "execution_count": 2,
   "metadata": {},
   "outputs": [
    {
     "name": "stdout",
     "output_type": "stream",
     "text": [
      "Loaded dataframe. Dataframe columns: Index(['salary', 'exprior', 'yearsworked', 'yearsrank', 'market', 'degree',\n",
      "       'otherqual', 'position', 'male', 'Field', 'yearsabs'],\n",
      "      dtype='object')\n",
      "\n",
      "R^2 score = 76.15%\n",
      "\n",
      "Correlation Coefficients: \n",
      "\tsalary:             327.39\n",
      "\texprior:             -1.08\n",
      "\tyearsworked:        726.00\n",
      "\tyearsrank:        31434.03\n",
      "\tmarket:             403.93\n",
      "\tdegree:            2071.82\n",
      "\totherqual:         6789.19\n",
      "\tposition:           318.49\n",
      "\tmale:             -2083.43\n",
      "\tField:              -22.43\n",
      "\n",
      "lm.intercept_ = $5257.12\n"
     ]
    },
    {
     "data": {
      "image/png": "[encoded data removed]",
      "text/plain": [
       "<matplotlib.figure.Figure at 0x22d591be128>"
      ]
     },
     "metadata": {},
     "output_type": "display_data"
    }
   ],
   "source": [
    "data = reloadData()\n",
    "\n",
    "y = data['salary'] # define the target variable (dependent variable) as y\n",
    "\n",
    "testData = data.drop('salary', axis='columns')\n",
    "\n",
    "# create training and testing vars\n",
    "X_train, X_test, y_train, y_test = train_test_split(testData, y, test_size=0.3)\n",
    "\n",
    "# fit a model\n",
    "lm = linear_model.LinearRegression()\n",
    "model = lm.fit(X_train, y_train)\n",
    "predictions = lm.predict(X_test)\n",
    "\n",
    "print(\"\\nR^2 score = \" + '{:.2f}'.format((lm.score(X_test, y_test)) * 100) + '%')\n",
    "\n",
    "print(\"\\nCorrelation Coefficients: \")\n",
    "output = \"\"\n",
    "for i, coeff in enumerate(lm.coef_):\n",
    "    padding = \"{:\" + str(25 - len(data.columns[i])) + \".2f}\"\n",
    "    output += \"\\t\" + data.columns[i] + \":\" + padding.format(coeff) + \"\\n\"\n",
    "print(output)\n",
    "\n",
    "# row_format =\"{:>15}\" * (len(lm.coef_) + 1)\n",
    "# print(row_format.format(\"\", *lm.coef_))\n",
    "# for i, coeff in enumerate(lm.coef_):\n",
    "#     print(row_format.format(i, *lm.coef_))\n",
    "\n",
    "print(\"lm.intercept_ = $\" + \"{:.2f}\".format(lm.intercept_))\n",
    "\n",
    "## The line / model\n",
    "plt.scatter(y_test, predictions)\n",
    "plt.xlabel('Observed Values')\n",
    "plt.ylabel('Predictions')\n",
    "plt.show()"
   ]
  }
 ],
 "metadata": {
  "kernelspec": {
   "display_name": "Python 3",
   "language": "python",
   "name": "python3"
  },
  "language_info": {
   "codemirror_mode": {
    "name": "ipython",
    "version": 3
   },
   "file_extension": ".py",
   "mimetype": "text/x-python",
   "name": "python",
   "nbconvert_exporter": "python",
   "pygments_lexer": "ipython3",
   "version": "3.6.4"
  }
 },
 "nbformat": 4,
 "nbformat_minor": 2
}
